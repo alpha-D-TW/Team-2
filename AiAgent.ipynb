{
  "nbformat": 4,
  "nbformat_minor": 0,
  "metadata": {
    "colab": {
      "provenance": [],
      "toc_visible": true
    },
    "kernelspec": {
      "name": "python3",
      "display_name": "Python 3"
    },
    "language_info": {
      "name": "python"
    }
  },
  "cells": [
    {
      "cell_type": "code",
      "execution_count": null,
      "metadata": {
        "id": "kPRHYQv3U4NR"
      },
      "outputs": [],
      "source": [
        "!pip install openai\n",
        "!pip install tiktoken\n",
        "!pip install langchain\n",
        "!pip install langchain-openai\n",
        "!pip install chromadb\n",
        "!pip install pypdf"
      ]
    },
    {
      "cell_type": "code",
      "source": [
        "from langchain_openai import ChatOpenAI, OpenAIEmbeddings\n",
        "llm = ChatOpenAI(openai_api_key='123', organization=\"gluon-meson\",\n",
        "openai_api_base=\"https://0972-152-101-166-135.ngrok-free.app\", model='gpt-3.5-turbo', temperature=0, streaming=False)\n",
        "\n",
        "embeddings = OpenAIEmbeddings(openai_api_key='123', organization=\"gluon-meson\",\n",
        "openai_api_base=\"https://0972-152-101-166-135.ngrok-free.app\", model='text-embedding-ada-002')"
      ],
      "metadata": {
        "id": "qdtylV_-VFIS"
      },
      "execution_count": null,
      "outputs": []
    },
    {
      "cell_type": "code",
      "source": [
        "from openai import OpenAI\n",
        "client = OpenAI(\n",
        "    base_url=\"https://0972-152-101-166-135.ngrok-free.app\",\n",
        "    api_key=\"123\",\n",
        ")\n",
        "\n",
        "system_prompt =  \"\"\"  As an emotion analysis expert, please evaluate the sentiment of the following user review and indicate whether it is positive (Y) or negative (N):\n",
        "                      If it is not clear whether the review is positive or negative, return -1\n",
        "                  \"\"\"\n",
        "\n",
        "prompt = system_prompt\n",
        "\n",
        "response = client.chat.completions.create(\n",
        "    model = \"gpt-3.5-turbo\", # for OpenAI\n",
        "    messages=[\n",
        "        {\"role\": \"system\", \"content\": prompt},\n",
        "        {\"role\": \"user\", \"content\": \"这个东西太裤辣\"},\n",
        "    ],\n",
        "    temperature = 0,\n",
        "    max_tokens = 2000,\n",
        "  )\n",
        "print(response.choices[0].message.content)\n",
        "\n"
      ],
      "metadata": {
        "colab": {
          "base_uri": "https://localhost:8080/"
        },
        "id": "fFXF547EoPso",
        "outputId": "36e07f50-c2e4-43a6-dfa2-e823ba4f1826"
      },
      "execution_count": null,
      "outputs": [
        {
          "output_type": "stream",
          "name": "stdout",
          "text": [
            "-1\n"
          ]
        }
      ]
    },
    {
      "cell_type": "code",
      "source": [
        "## exercise1\n",
        "from openai import OpenAI\n",
        "client = OpenAI(\n",
        "    base_url=\"https://0972-152-101-166-135.ngrok-free.app/\",\n",
        "    api_key=\"123\",\n",
        ")\n",
        "\n",
        "system_prompt0 =  \"\"\"  When a user enters a comment, You analyze it to determine whether it is positive or negative.\n",
        "                      If it is a positive comment, output Y; if it is a negative comment, output N.\n",
        "                      If the sentiment of the comment cannot be identified, -1 is output.\n",
        "                  \"\"\"\n",
        "\n",
        "system_prompt =  \"\"\"  When a user enters a comment, you analyze it, determine the sentiment of the comment,\n",
        "                      and accurately describe it with an emotion word.\n",
        "                      If the sentiment of the comment cannot be identified, -1 is output.\n",
        "                  \"\"\"\n",
        "\n",
        "prompt = system_prompt\n",
        "\n",
        "response = client.chat.completions.create(\n",
        "    model = \"gpt-3.5-turbo\", # for OpenAI\n",
        "    messages=[\n",
        "        {\"role\": \"system\", \"content\": prompt},\n",
        "        {\"role\": \"user\", \"content\": \"花谢了\"},\n",
        "    ],\n",
        "    temperature = 0,\n",
        "    max_tokens = 2000,\n",
        "  )\n",
        "print(response.choices[0].message.content)\n"
      ],
      "metadata": {
        "colab": {
          "base_uri": "https://localhost:8080/"
        },
        "id": "SKvzpXdmv791",
        "outputId": "63c4e17a-9358-4f48-8127-1c43587a47ec"
      },
      "execution_count": null,
      "outputs": [
        {
          "output_type": "stream",
          "name": "stdout",
          "text": [
            "-1\n"
          ]
        }
      ]
    },
    {
      "cell_type": "code",
      "source": [
        "# AI Agent"
      ],
      "metadata": {
        "id": "TAaw-mjceGgz"
      },
      "execution_count": null,
      "outputs": []
    },
    {
      "cell_type": "code",
      "source": [
        "import requests\n",
        "import json\n",
        "from pydantic import BaseModel, Field\n",
        "\n",
        "\n",
        "class Addition(BaseModel):\n",
        "    \"\"\"Get the summation\"\"\"\n",
        "    argument1: float = Field(description=\"number, Only keep 2 decimal places\")\n",
        "    argument2: float = Field(description=\"number, Only keep 2 decimal places\")\n",
        "\n",
        "def get_summation(argument1:float, argument2:float) -> float:\n",
        "    return argument1 + argument2\n",
        "\n",
        "\n",
        "get_summation(30.57, 104.07)"
      ],
      "metadata": {
        "id": "vkNGUuy4exbJ",
        "colab": {
          "base_uri": "https://localhost:8080/"
        },
        "outputId": "398a5444-7178-4ff0-d2dd-bbb849d102e2"
      },
      "execution_count": null,
      "outputs": [
        {
          "output_type": "execute_result",
          "data": {
            "text/plain": [
              "134.64"
            ]
          },
          "metadata": {},
          "execution_count": 13
        }
      ]
    },
    {
      "cell_type": "code",
      "source": [
        "from pydantic import BaseModel, Field\n",
        "\n",
        "class Multiplication(BaseModel):\n",
        "  \"\"\"Call this to get the result of multiplying two numbers\"\"\"\n",
        "  multiplier: float = Field(description=\"number, Only keep 2 decimal places\")\n",
        "  multiplicand: float = Field(description=\"number, Only keep 2 decimal places\")\n",
        "\n",
        "def multiply(multiplier: float, multiplicand: float) -> float:\n",
        "  return multiplier * multiplicand\n",
        "\n",
        "multiply(1.0,9.0)"
      ],
      "metadata": {
        "id": "sBzlmXMxeGj8",
        "colab": {
          "base_uri": "https://localhost:8080/"
        },
        "outputId": "e8282d62-663c-40d2-ccf6-cb3a88063475"
      },
      "execution_count": null,
      "outputs": [
        {
          "output_type": "execute_result",
          "data": {
            "text/plain": [
              "9.0"
            ]
          },
          "metadata": {},
          "execution_count": 17
        }
      ]
    },
    {
      "cell_type": "code",
      "source": [
        "from pydantic import BaseModel, Field\n",
        "\n",
        "class PowerCalculator(BaseModel):\n",
        "    \"\"\"Calculator to compute the power of a number\"\"\"\n",
        "\n",
        "    base: float = Field(description=\"The base number to be raised to a power, only keep 2 decimal places\")\n",
        "    exponent: float = Field(description=\"The exponent to which the base is raised, only keep 2 decimal places\")\n",
        "\n",
        "def calculate_power( base: float, exponent: float) -> float:\n",
        "    \"\"\"Calculate the power of the base number raised to the exponent\"\"\"\n",
        "    return base ** exponent\n",
        "\n",
        "# 使用示例\n",
        "# 创建一个PowerCalculator实例并计算2的3次方\n",
        "# calculator = PowerCalculator(base=2, exponent=3)\n",
        "result = calculate_power(2, 3)\n",
        "print(f\"The result  {result}\")"
      ],
      "metadata": {
        "id": "Vtpnzm5xfaEu",
        "colab": {
          "base_uri": "https://localhost:8080/"
        },
        "outputId": "99cc3031-e5ac-4fd7-e55c-2b58d4ec88b3"
      },
      "execution_count": null,
      "outputs": [
        {
          "output_type": "stream",
          "name": "stdout",
          "text": [
            "The result  8\n"
          ]
        }
      ]
    },
    {
      "cell_type": "code",
      "source": [
        "from langchain.agents import AgentExecutor, create_openai_tools_agent\n",
        "from langchain.tools import  StructuredTool\n",
        "\n",
        "agent_tools=[StructuredTool.from_function(func=get_summation, name=\"Addition\", description=\"Get the summation\"),\n",
        "             StructuredTool.from_function(func=multiply, name=\"Multiplication\", description=\"Call this to get the result of multiplying two numbers\"),\n",
        "       StructuredTool.from_function(func=calculate_power, name=\"PowerCalculator\", description=\"Calculator to compute the power of a number\")]\n",
        "\n",
        "agent = create_openai_tools_agent(llm, agent_tools, agent_prompt)\n",
        "agent_executor = AgentExecutor(agent=agent, tools=agent_tools, verbose=True)\n",
        "result = agent_executor.invoke({\"input\":\"Take 3 to the fifth power and multiply that by the sum of twelve and three, then square the whole result\"})\n",
        "print(result[\"output\"])"
      ],
      "metadata": {
        "colab": {
          "base_uri": "https://localhost:8080/"
        },
        "id": "Buo_YV5jffD7",
        "outputId": "44601ed8-db6c-4858-889f-97890624863d"
      },
      "execution_count": null,
      "outputs": [
        {
          "output_type": "stream",
          "name": "stdout",
          "text": [
            "\n",
            "\n",
            "\u001b[1m> Entering new AgentExecutor chain...\u001b[0m\n",
            "\u001b[32;1m\u001b[1;3m\n",
            "Invoking: `PowerCalculator` with `{'base': 3, 'exponent': 5}`\n",
            "\n",
            "\n",
            "\u001b[0m\u001b[38;5;200m\u001b[1;3m243.0\u001b[0m\u001b[32;1m\u001b[1;3m\n",
            "Invoking: `Addition` with `{'argument1': 12, 'argument2': 3}`\n",
            "\n",
            "\n",
            "\u001b[0m\u001b[36;1m\u001b[1;3m15.0\u001b[0m\u001b[32;1m\u001b[1;3m\n",
            "Invoking: `Multiplication` with `{'multiplier': 243, 'multiplicand': 15}`\n",
            "\n",
            "\n",
            "\u001b[0m\u001b[33;1m\u001b[1;3m3645.0\u001b[0m\u001b[32;1m\u001b[1;3m\n",
            "Invoking: `PowerCalculator` with `{'base': 3645, 'exponent': 2}`\n",
            "\n",
            "\n",
            "\u001b[0m\u001b[38;5;200m\u001b[1;3m13286025.0\u001b[0m\u001b[32;1m\u001b[1;3mThe result of taking 3 to the fifth power and multiplying that by the sum of twelve and three, then squaring the whole result is 13,286,025. 🎉\u001b[0m\n",
            "\n",
            "\u001b[1m> Finished chain.\u001b[0m\n",
            "The result of taking 3 to the fifth power and multiplying that by the sum of twelve and three, then squaring the whole result is 13,286,025. 🎉\n"
          ]
        }
      ]
    }
  ]
}